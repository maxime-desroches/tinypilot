{
 "cells": [
  {
   "cell_type": "code",
   "execution_count": 106,
   "id": "initial_id",
   "metadata": {
    "collapsed": true,
    "ExecuteTime": {
     "end_time": "2023-10-06T01:48:25.459957185Z",
     "start_time": "2023-10-06T01:48:25.449886632Z"
    }
   },
   "outputs": [],
   "source": [
    "from selfdrive.car.toyota.values import CAR, EV_HYBRID_CAR, FW_VERSIONS, STATIC_DSU_MSGS\n",
    "from selfdrive.car.interfaces import get_torque_params\n",
    "from deepdiff import DeepDiff\n",
    "import dictdiffer\n",
    "from cereal import car\n",
    "\n",
    "Ecu = car.CarParams.Ecu\n",
    "ECU_NAME = {v: k for k, v in Ecu.schema.enumerants.items()}"
   ]
  },
  {
   "cell_type": "code",
   "execution_count": 104,
   "outputs": [
    {
     "name": "stdout",
     "output_type": "stream",
     "text": [
      "? LEXUS CT HYBRID 2018\n"
     ]
    }
   ],
   "source": [
    "CARs = list(map(str, CAR))\n",
    "hybrid_map = {'TOYOTA ALPHARD HYBRID 2021': 'TOYOTA ALPHARD 2020',\n",
    "              'TOYOTA C-HR HYBRID 2022': 'TOYOTA C-HR 2021',\n",
    "              'TOYOTA HIGHLANDER HYBRID 2018': 'TOYOTA HIGHLANDER 2017',\n",
    "              # 'LEXUS CT HYBRID 2018': '',\n",
    "              'LEXUS RX HYBRID 2017': 'LEXUS RX 2016'}\n",
    "for candidate in CARs:\n",
    "  if 'HYBRID' not in candidate or candidate in hybrid_map:\n",
    "    continue\n",
    "  hybridless = candidate.replace(' HYBRID', '')\n",
    "  if hybridless in CARs:\n",
    "    # print(candidate, '->', hybridless)\n",
    "    hybrid_map[candidate] = hybridless\n",
    "  else:\n",
    "    print('?', candidate)\n",
    "  # print(candidate.replace(' HYBRID', ''))\n",
    "  "
   ],
   "metadata": {
    "collapsed": false,
    "ExecuteTime": {
     "end_time": "2023-10-06T01:47:58.889925823Z",
     "start_time": "2023-10-06T01:47:58.874724985Z"
    }
   },
   "id": "e2d8ebb51bf51d27"
  },
  {
   "cell_type": "code",
   "execution_count": 28,
   "outputs": [],
   "source": [
    "assert EV_HYBRID_CAR - {CAR.MIRAI, CAR.PRIUS, CAR.PRIUS_V, CAR.PRIUS_TSS2, CAR.LEXUS_CTH} == set(hybrid_map)"
   ],
   "metadata": {
    "collapsed": false,
    "ExecuteTime": {
     "end_time": "2023-10-05T21:21:39.898745923Z",
     "start_time": "2023-10-05T21:21:39.890462691Z"
    }
   },
   "id": "df0bfe5133d0060f"
  },
  {
   "cell_type": "code",
   "execution_count": 82,
   "outputs": [
    {
     "name": "stdout",
     "output_type": "stream",
     "text": [
      "51 20\n",
      "  TOYOTA HIGHLANDER 2017 -> TOYOTA HIGHLANDER HYBRID 2018\n",
      "Factor:            1.870 -> 1.752 (-6.29% change)\n",
      "Measured:          1.626 -> 1.643 (1.05% change)\n",
      "Friction:          0.175 -> 0.145 (-17.30% change)\n",
      "\n",
      "           LEXUS RX 2016 -> LEXUS RX HYBRID 2017\n",
      "Factor:            1.588 -> 1.698 (6.98% change)\n",
      "Measured:          1.043 -> 1.321 (26.70% change)\n",
      "Friction:          0.213 -> 0.182 (-14.67% change)\n",
      "\n",
      "       TOYOTA CAMRY 2018 -> TOYOTA CAMRY HYBRID 2018\n",
      "Factor:            2.117 -> 1.996 (-5.71% change)\n",
      "Measured:          1.716 -> 1.800 (4.90% change)\n",
      "Friction:          0.105 -> 0.113 (7.01% change)\n",
      "\n",
      "       TOYOTA CAMRY 2021 -> TOYOTA CAMRY HYBRID 2021\n",
      "Factor:            2.446 -> 2.264 (-7.46% change)\n",
      "Measured:          2.348 -> 2.390 (1.81% change)\n",
      "Friction:          0.122 -> 0.115 (-5.23% change)\n",
      "\n",
      "TOYOTA COROLLA TSS2 2019 -> TOYOTA COROLLA HYBRID TSS2 2019\n",
      "Factor:            2.074 -> 1.908 (-8.02% change)\n",
      "Measured:          1.926 -> 1.812 (-5.92% change)\n",
      "Friction:          0.169 -> 0.223 (31.75% change)\n",
      "\n",
      "  TOYOTA HIGHLANDER 2020 -> TOYOTA HIGHLANDER HYBRID 2020\n",
      "Factor:            2.022 -> 1.901 (-5.99% change)\n",
      "Measured:          1.618 -> 2.104 (30.01% change)\n",
      "Friction:          0.146 -> 0.144 (-1.00% change)\n",
      "\n",
      "        TOYOTA RAV4 2017 -> TOYOTA RAV4 HYBRID 2017\n",
      "Factor:            2.086 -> 1.980 (-5.09% change)\n",
      "Measured:          2.214 -> 1.750 (-20.95% change)\n",
      "Friction:          0.133 -> 0.146 (9.67% change)\n",
      "\n",
      "        TOYOTA RAV4 2019 -> TOYOTA RAV4 HYBRID 2019\n",
      "Factor:            2.331 -> 2.227 (-4.47% change)\n",
      "Measured:          2.099 -> 2.075 (-1.17% change)\n",
      "Friction:          0.130 -> 0.144 (10.78% change)\n",
      "\n",
      "           LEXUS ES 2019 -> LEXUS ES HYBRID 2019\n",
      "Factor:            1.936 -> 2.136 (10.32% change)\n",
      "Measured:          2.135 -> 1.863 (-12.72% change)\n",
      "Friction:          0.093 -> 0.110 (17.32% change)\n",
      "\n",
      "           LEXUS NX 2018 -> LEXUS NX HYBRID 2018\n",
      "Factor:            2.303 -> 2.403 (4.34% change)\n",
      "Measured:          2.138 -> 1.808 (-15.44% change)\n",
      "Friction:          0.150 -> 0.153 (2.42% change)\n",
      "\n",
      "           LEXUS RX 2020 -> LEXUS RX HYBRID 2020\n",
      "Factor:            1.523 -> 1.552 (1.93% change)\n",
      "Measured:          1.431 -> 1.255 (-12.29% change)\n",
      "Friction:          0.164 -> 0.222 (35.33% change)\n"
     ]
    }
   ],
   "source": [
    "print(len(CAR), len(hybrid_map))\n",
    "for hybrid_candiate, ice_candidate in hybrid_map.items():\n",
    "  # print(hybrid_candiate, ice_candidate)\n",
    "  tph = get_torque_params(hybrid_candiate)\n",
    "  tpi = get_torque_params(ice_candidate)\n",
    "  # dd = DeepDiff(tph, tpi, math_epsilon=0.1)\n",
    "  dd = list(dictdiffer.diff(tph, tpi, tolerance=0, absolute_tolerance=0.1))\n",
    "  if dd:\n",
    "    factor_perc_diff = (tph[\"LAT_ACCEL_FACTOR\"] - tpi[\"LAT_ACCEL_FACTOR\"]) / tpi[\"LAT_ACCEL_FACTOR\"] * 100\n",
    "    maxlat_perc_diff = (tph[\"MAX_LAT_ACCEL_MEASURED\"] - tpi[\"MAX_LAT_ACCEL_MEASURED\"]) / tpi[\"MAX_LAT_ACCEL_MEASURED\"] * 100\n",
    "    friction_perc_diff = (tph[\"FRICTION\"] - tpi[\"FRICTION\"]) / tpi[\"FRICTION\"] * 100\n",
    "    print(f'{ice_candidate:>24} -> {hybrid_candiate}')\n",
    "    print('Factor: {:>16.3f} -> {:.3f} ({:.2f}% change)'.format(\n",
    "      tpi[\"LAT_ACCEL_FACTOR\"], tph[\"LAT_ACCEL_FACTOR\"], factor_perc_diff\n",
    "    ))\n",
    "    print('Measured: {:>14.3f} -> {:.3f} ({:.2f}% change)'.format(\n",
    "      tpi[\"MAX_LAT_ACCEL_MEASURED\"], tph[\"MAX_LAT_ACCEL_MEASURED\"], maxlat_perc_diff\n",
    "    ))\n",
    "    print('Friction: {:>14.3f} -> {:.3f} ({:.2f}% change)'.format(\n",
    "      tpi[\"FRICTION\"], tph[\"FRICTION\"], friction_perc_diff\n",
    "    ))\n",
    "    # print(hybrid_candiate, ice_candidate, dd)\n",
    "    print()\n",
    "  \n",
    "  # print(tph, tpi)\n",
    "  "
   ],
   "metadata": {
    "collapsed": false,
    "ExecuteTime": {
     "end_time": "2023-10-05T21:37:56.100645781Z",
     "start_time": "2023-10-05T21:37:55.939735283Z"
    }
   },
   "id": "9f0e7249b271c9a6"
  },
  {
   "cell_type": "code",
   "execution_count": 105,
   "outputs": [
    {
     "name": "stdout",
     "output_type": "stream",
     "text": [
      "ECU KEY DO NOT MATCH! Diff: ('TOYOTA HIGHLANDER HYBRID 2018', {('engine', 1792, None), ('dsu', 1937, None), ('engine', 2016, None)})\n",
      "ECU KEY DO NOT MATCH! Diff: ('LEXUS RX HYBRID 2017', {('engine', 1792, None), ('engine', 2016, None)})\n",
      "ECU KEY DO NOT MATCH! Diff: ('TOYOTA COROLLA HYBRID TSS2 2019', {('engine', 2016, None)})\n",
      "ECU KEY DO NOT MATCH! Diff: ('TOYOTA RAV4 HYBRID 2023', {('hybrid', 2002, None)})\n",
      "ECU KEY DO NOT MATCH! Diff: ('LEXUS NX HYBRID 2018', {('engine', 1792, None), ('engine', 2016, None)})\n",
      "ECU KEY DO NOT MATCH! Diff: ('LEXUS NX HYBRID 2020', {('engine', 1792, None), ('engine', 2016, None)})\n",
      "ECU KEY DO NOT MATCH! Diff: ('LEXUS RX HYBRID 2020', {('engine', 1792, None), ('engine', 2016, None)})\n"
     ]
    }
   ],
   "source": [
    "for hybrid_candidate, ice_candidate in hybrid_map.items():\n",
    "  if hybrid_candidate in (CAR.CAMRYH, CAR.CHRH, CAR.CHRH_TSS2, CAR.ALPHARDH_TSS2):\n",
    "    continue\n",
    "  ecus = []\n",
    "  if FW_VERSIONS[hybrid_candidate].keys() != FW_VERSIONS[ice_candidate].keys():\n",
    "    missing = set(FW_VERSIONS[hybrid_candidate].keys()) ^ set(FW_VERSIONS[ice_candidate].keys())\n",
    "    missing = {(ECU_NAME[i[0]], i[1], i[2]) for i in missing}\n",
    "    print('ECU KEY DO NOT MATCH! Diff:', (hybrid_candidate, missing))\n",
    "  "
   ],
   "metadata": {
    "collapsed": false,
    "ExecuteTime": {
     "end_time": "2023-10-06T01:48:15.304474235Z",
     "start_time": "2023-10-06T01:48:15.289561551Z"
    }
   },
   "id": "4c2affb49f445863"
  },
  {
   "cell_type": "code",
   "execution_count": 112,
   "outputs": [
    {
     "name": "stdout",
     "output_type": "stream",
     "text": [
      "0x128: Mismatch in DSU message (LEXUS RX HYBRID 2017): (hyb in cars)=True vs. (ice in cars)=False\n",
      "\n",
      "\n",
      "\n",
      "\n",
      "0x161: Mismatch in DSU message (LEXUS ES HYBRID 2018): (hyb in cars)=False vs. (ice in cars)=True\n",
      "\n",
      "0x161: Mismatch in DSU message (LEXUS ES HYBRID 2018): (hyb in cars)=True vs. (ice in cars)=False\n",
      "\n",
      "\n",
      "0x2e6: Mismatch in DSU message (LEXUS RX HYBRID 2017): (hyb in cars)=True vs. (ice in cars)=False\n",
      "0x2e6: Mismatch in DSU message (TOYOTA RAV4 HYBRID 2017): (hyb in cars)=True vs. (ice in cars)=False\n",
      "\n",
      "0x2e7: Mismatch in DSU message (LEXUS RX HYBRID 2017): (hyb in cars)=True vs. (ice in cars)=False\n",
      "0x2e7: Mismatch in DSU message (TOYOTA RAV4 HYBRID 2017): (hyb in cars)=True vs. (ice in cars)=False\n",
      "\n",
      "0x33e: Mismatch in DSU message (LEXUS RX HYBRID 2017): (hyb in cars)=True vs. (ice in cars)=False\n",
      "0x33e: Mismatch in DSU message (TOYOTA RAV4 HYBRID 2017): (hyb in cars)=True vs. (ice in cars)=False\n",
      "\n",
      "\n",
      "0x365: Mismatch in DSU message (TOYOTA HIGHLANDER HYBRID 2018): (hyb in cars)=True vs. (ice in cars)=False\n",
      "0x365: Mismatch in DSU message (LEXUS RX HYBRID 2017): (hyb in cars)=True vs. (ice in cars)=False\n",
      "\n",
      "0x365: Mismatch in DSU message (TOYOTA HIGHLANDER HYBRID 2018): (hyb in cars)=False vs. (ice in cars)=True\n",
      "0x365: Mismatch in DSU message (LEXUS RX HYBRID 2017): (hyb in cars)=False vs. (ice in cars)=True\n",
      "\n",
      "0x366: Mismatch in DSU message (TOYOTA HIGHLANDER HYBRID 2018): (hyb in cars)=True vs. (ice in cars)=False\n",
      "0x366: Mismatch in DSU message (LEXUS RX HYBRID 2017): (hyb in cars)=True vs. (ice in cars)=False\n",
      "0x366: Mismatch in DSU message (TOYOTA RAV4 HYBRID 2017): (hyb in cars)=True vs. (ice in cars)=False\n",
      "\n",
      "0x366: Mismatch in DSU message (TOYOTA HIGHLANDER HYBRID 2018): (hyb in cars)=False vs. (ice in cars)=True\n",
      "0x366: Mismatch in DSU message (LEXUS RX HYBRID 2017): (hyb in cars)=False vs. (ice in cars)=True\n",
      "0x366: Mismatch in DSU message (TOYOTA RAV4 HYBRID 2017): (hyb in cars)=False vs. (ice in cars)=True\n",
      "0x366: Mismatch in DSU message (LEXUS ES HYBRID 2018): (hyb in cars)=True vs. (ice in cars)=False\n",
      "\n",
      "0x366: Mismatch in DSU message (LEXUS ES HYBRID 2018): (hyb in cars)=False vs. (ice in cars)=True\n",
      "\n",
      "0x470: Mismatch in DSU message (LEXUS RX HYBRID 2017): (hyb in cars)=True vs. (ice in cars)=False\n",
      "\n",
      "0x470: Mismatch in DSU message (TOYOTA RAV4 HYBRID 2017): (hyb in cars)=True vs. (ice in cars)=False\n",
      "\n"
     ]
    }
   ],
   "source": [
    "for it in STATIC_DSU_MSGS:\n",
    "  cars = it[1]\n",
    "  for hyb, ice in hybrid_map.items():\n",
    "    if (hyb in cars) != (ice in cars):\n",
    "      print(f'{hex(it[0])}: Mismatch in DSU message ({hyb}): {(hyb in cars)=} vs. {(ice in cars)=}')\n",
    "  print()"
   ],
   "metadata": {
    "collapsed": false,
    "ExecuteTime": {
     "end_time": "2023-10-06T01:55:00.922164441Z",
     "start_time": "2023-10-06T01:55:00.916820282Z"
    }
   },
   "id": "fc454ff529555440"
  }
 ],
 "metadata": {
  "kernelspec": {
   "display_name": "Python 3",
   "language": "python",
   "name": "python3"
  },
  "language_info": {
   "codemirror_mode": {
    "name": "ipython",
    "version": 2
   },
   "file_extension": ".py",
   "mimetype": "text/x-python",
   "name": "python",
   "nbconvert_exporter": "python",
   "pygments_lexer": "ipython2",
   "version": "2.7.6"
  }
 },
 "nbformat": 4,
 "nbformat_minor": 5
}
